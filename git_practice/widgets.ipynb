{
 "cells": [
  {
   "cell_type": "code",
   "execution_count": 0,
   "metadata": {
    "application/vnd.databricks.v1+cell": {
     "cellMetadata": {
      "byteLimit": 2048000,
      "rowLimit": 10000
     },
     "inputWidgets": {},
     "nuid": "f11c79e5-3e70-49d3-a1c3-8756528c91ed",
     "showTitle": false,
     "tableResultSettingsMap": {},
     "title": ""
    }
   },
   "outputs": [],
   "source": [
    "#dbutils.widgets.dropdown(name='states',\n",
    "#defaultValue ='NY',\n",
    "#choices=['NY', 'CA', 'TX', 'FL', 'IL'],\n",
    "#label='Choose_a_state')\n"
   ]
  },
  {
   "cell_type": "code",
   "execution_count": 0,
   "metadata": {
    "application/vnd.databricks.v1+cell": {
     "cellMetadata": {
      "byteLimit": 2048000,
      "rowLimit": 10000
     },
     "inputWidgets": {},
     "nuid": "d9c30e34-61a3-496c-827c-8c60fa66a7bf",
     "showTitle": false,
     "tableResultSettingsMap": {},
     "title": ""
    }
   },
   "outputs": [],
   "source": [
    "dbutils.widgets.dropdown(name='status',\n",
    "defaultValue ='COMPLETE',\n",
    "choices=['COMPLETE','PENDING_PAYMENT','CLOSED','PAYMENT_REVIEW','PROCESSING'],\n",
    "label='Choose_a_status')"
   ]
  },
  {
   "cell_type": "code",
   "execution_count": 0,
   "metadata": {
    "application/vnd.databricks.v1+cell": {
     "cellMetadata": {
      "byteLimit": 2048000,
      "rowLimit": 10000
     },
     "inputWidgets": {},
     "nuid": "69ac1d5a-a0ff-4d32-b867-7b54696bacd7",
     "showTitle": false,
     "tableResultSettingsMap": {},
     "title": ""
    }
   },
   "outputs": [],
   "source": [
    "dbutils.widgets.text(name='order_year',\n",
    "defaultValue ='2014',\n",
    "label='Year')"
   ]
  },
  {
   "cell_type": "code",
   "execution_count": 0,
   "metadata": {
    "application/vnd.databricks.v1+cell": {
     "cellMetadata": {
      "byteLimit": 2048000,
      "rowLimit": 10000
     },
     "inputWidgets": {},
     "nuid": "fe826438-a6e6-4e49-aff0-d5869196186a",
     "showTitle": false,
     "tableResultSettingsMap": {},
     "title": ""
    }
   },
   "outputs": [],
   "source": [
    "#to get the values from widgets into variables\n",
    "\n",
    "Choose_a_status = dbutils.widgets.get('status')\n",
    "Year = dbutils.widgets.get('order_year')"
   ]
  },
  {
   "cell_type": "code",
   "execution_count": 0,
   "metadata": {
    "application/vnd.databricks.v1+cell": {
     "cellMetadata": {
      "byteLimit": 2048000,
      "rowLimit": 10000
     },
     "inputWidgets": {},
     "nuid": "a4cf8c64-67bb-4bb4-8d53-d91ce4acaa18",
     "showTitle": false,
     "tableResultSettingsMap": {},
     "title": ""
    }
   },
   "outputs": [],
   "source": [
    "df = spark.read.option(\"header\", \"true\").csv('/FileStore/tables/orders.csv')"
   ]
  },
  {
   "cell_type": "code",
   "execution_count": 0,
   "metadata": {
    "application/vnd.databricks.v1+cell": {
     "cellMetadata": {
      "byteLimit": 2048000,
      "rowLimit": 10000
     },
     "inputWidgets": {},
     "nuid": "da7171ab-f9c8-41d4-b61e-9ac51a4c4abc",
     "showTitle": false,
     "tableResultSettingsMap": {},
     "title": ""
    }
   },
   "outputs": [],
   "source": [
    "df.createOrReplaceTempView('orders')"
   ]
  },
  {
   "cell_type": "code",
   "execution_count": 0,
   "metadata": {
    "application/vnd.databricks.v1+cell": {
     "cellMetadata": {
      "byteLimit": 2048000,
      "rowLimit": 10000
     },
     "inputWidgets": {},
     "nuid": "f4fcc396-f6a7-4319-8899-302f7e3e5e65",
     "showTitle": false,
     "tableResultSettingsMap": {},
     "title": ""
    }
   },
   "outputs": [],
   "source": [
    "#result = spark.sql(\"select order_status, count(*) from orders where order_status IN ('COMPLETE','CLOSED','PAYMENT_REVIEW','PROCESSING','PENDING_PAYMENT') AND YEAR(order_date) = 2015 GROUP BY order_status\")\n"
   ]
  },
  {
   "cell_type": "code",
   "execution_count": 0,
   "metadata": {
    "application/vnd.databricks.v1+cell": {
     "cellMetadata": {
      "byteLimit": 2048000,
      "rowLimit": 10000
     },
     "inputWidgets": {},
     "nuid": "a07c004e-4335-4fe5-b885-b34eb393a0b3",
     "showTitle": false,
     "tableResultSettingsMap": {},
     "title": ""
    }
   },
   "outputs": [],
   "source": [
    "#result = spark.sql(\"select year(order_date), count(*) from orders group by year(order_date)\").show()"
   ]
  },
  {
   "cell_type": "code",
   "execution_count": 0,
   "metadata": {
    "application/vnd.databricks.v1+cell": {
     "cellMetadata": {
      "byteLimit": 2048000,
      "rowLimit": 10000
     },
     "inputWidgets": {},
     "nuid": "79dd4051-33a9-4492-b486-c9e97dbaa306",
     "showTitle": false,
     "tableResultSettingsMap": {},
     "title": ""
    }
   },
   "outputs": [],
   "source": []
  },
  {
   "cell_type": "code",
   "execution_count": 0,
   "metadata": {
    "application/vnd.databricks.v1+cell": {
     "cellMetadata": {
      "byteLimit": 2048000,
      "implicitDf": true,
      "rowLimit": 10000
     },
     "inputWidgets": {},
     "nuid": "35322d42-3e10-475b-93dd-60e01f4c4c7a",
     "showTitle": false,
     "tableResultSettingsMap": {},
     "title": ""
    }
   },
   "outputs": [],
   "source": [
    "query = f\"\"\"SELECT order_status, COUNT(*) as order_count \n",
    "FROM orders WHERE order_status = '{Choose_a_status}' AND YEAR(order_date) = {Year}  GROUP BY order_status\"\"\"\n",
    "\n",
    "print(query)\n",
    "\n",
    "result = spark.sql(query)\n",
    "result.show()\n",
    "\n"
   ]
  },
  {
   "cell_type": "code",
   "execution_count": 0,
   "metadata": {
    "application/vnd.databricks.v1+cell": {
     "cellMetadata": {
      "byteLimit": 2048000,
      "rowLimit": 10000
     },
     "inputWidgets": {},
     "nuid": "a89d3ba5-2c12-48b1-854d-25b57e4a12c4",
     "showTitle": false,
     "tableResultSettingsMap": {},
     "title": ""
    }
   },
   "outputs": [],
   "source": []
  }
 ],
 "metadata": {
  "application/vnd.databricks.v1+notebook": {
   "computePreferences": null,
   "dashboards": [],
   "environmentMetadata": {
    "base_environment": "",
    "environment_version": "2"
   },
   "language": "python",
   "notebookMetadata": {
    "mostRecentlyExecutedCommandWithImplicitDF": {
     "commandId": -1,
     "dataframes": [
      "_sqldf"
     ]
    },
    "pythonIndentUnit": 4
   },
   "notebookName": "widgets",
   "widgets": {
    "order_year": {
     "currentValue": "2014",
     "nuid": "a025d12c-95fd-421c-9979-cf2a05f7df77",
     "typedWidgetInfo": {
      "autoCreated": false,
      "defaultValue": "2014",
      "label": "Year",
      "name": "order_year",
      "options": {
       "widgetDisplayType": "Text",
       "validationRegex": null
      },
      "parameterDataType": "String"
     },
     "widgetInfo": {
      "widgetType": "text",
      "defaultValue": "2014",
      "label": "Year",
      "name": "order_year",
      "options": {
       "widgetType": "text",
       "autoCreated": null,
       "validationRegex": null
      }
     }
    },
    "status": {
     "currentValue": "PAYMENT_REVIEW",
     "nuid": "fb9f7689-a2a8-49f4-b48e-0cc209af339d",
     "typedWidgetInfo": {
      "autoCreated": false,
      "defaultValue": "COMPLETE",
      "label": "Choose_a_status",
      "name": "status",
      "options": {
       "widgetDisplayType": "Dropdown",
       "choices": [
        "COMPLETE",
        "PENDING_PAYMENT",
        "CLOSED",
        "PAYMENT_REVIEW",
        "PROCESSING"
       ],
       "fixedDomain": true,
       "multiselect": false
      },
      "parameterDataType": "String"
     },
     "widgetInfo": {
      "widgetType": "dropdown",
      "defaultValue": "COMPLETE",
      "label": "Choose_a_status",
      "name": "status",
      "options": {
       "widgetType": "dropdown",
       "autoCreated": null,
       "choices": [
        "COMPLETE",
        "PENDING_PAYMENT",
        "CLOSED",
        "PAYMENT_REVIEW",
        "PROCESSING"
       ]
      }
     }
    }
   }
  },
  "language_info": {
   "name": "python"
  }
 },
 "nbformat": 4,
 "nbformat_minor": 0
}
