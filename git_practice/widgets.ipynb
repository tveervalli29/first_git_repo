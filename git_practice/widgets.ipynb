{
 "cells": [
  {
   "cell_type": "code",
   "execution_count": 0,
   "metadata": {
    "application/vnd.databricks.v1+cell": {
     "cellMetadata": {
      "byteLimit": 2048000,
      "rowLimit": 10000
     },
     "inputWidgets": {},
     "nuid": "f11c79e5-3e70-49d3-a1c3-8756528c91ed",
     "showTitle": false,
     "tableResultSettingsMap": {},
     "title": ""
    }
   },
   "outputs": [],
   "source": [
    "dbutils.widgets.dropdown(name='states',\n",
    "defaultValue ='NY',\n",
    "choices=['NY', 'CA', 'TX', 'FL', 'IL'],\n",
    "label='Choose_a_state')\n"
   ]
  },
  {
   "cell_type": "code",
   "execution_count": 0,
   "metadata": {
    "application/vnd.databricks.v1+cell": {
     "cellMetadata": {
      "byteLimit": 2048000,
      "rowLimit": 10000
     },
     "inputWidgets": {},
     "nuid": "d9c30e34-61a3-496c-827c-8c60fa66a7bf",
     "showTitle": false,
     "tableResultSettingsMap": {},
     "title": ""
    }
   },
   "outputs": [],
   "source": [
    "dbutils.widgets.dropdown(name='status',\n",
    "defaultValue ='COMPLETE',\n",
    "choices=['COMPLETE','PENDING_PAYMENT','CLOSED','PAYMENT_REVIEW','PROCESSING'],\n",
    "label='Choose_a_status')"
   ]
  },
  {
   "cell_type": "code",
   "execution_count": 0,
   "metadata": {
    "application/vnd.databricks.v1+cell": {
     "cellMetadata": {
      "byteLimit": 2048000,
      "rowLimit": 10000
     },
     "inputWidgets": {},
     "nuid": "69ac1d5a-a0ff-4d32-b867-7b54696bacd7",
     "showTitle": false,
     "tableResultSettingsMap": {},
     "title": ""
    }
   },
   "outputs": [],
   "source": [
    "dbutils.widgets.text(name='order_year',\n",
    "defaultValue ='2014',\n",
    "label='Year')"
   ]
  },
  {
   "cell_type": "code",
   "execution_count": 0,
   "metadata": {
    "application/vnd.databricks.v1+cell": {
     "cellMetadata": {
      "byteLimit": 2048000,
      "rowLimit": 10000
     },
     "inputWidgets": {},
     "nuid": "fe826438-a6e6-4e49-aff0-d5869196186a",
     "showTitle": false,
     "tableResultSettingsMap": {},
     "title": ""
    }
   },
   "outputs": [],
   "source": [
    "#to get the values from widgets into variables\n",
    "Choose_a_state = dbutils.widgets.get('states')\n",
    "Choose_a_status = dbutils.widgets.get('status')\n",
    "Year = dbutils.widgets.get('order_year')"
   ]
  }
 ],
 "metadata": {
  "application/vnd.databricks.v1+notebook": {
   "computePreferences": null,
   "dashboards": [],
   "environmentMetadata": {
    "base_environment": "",
    "environment_version": "2"
   },
   "language": "python",
   "notebookMetadata": {
    "pythonIndentUnit": 4
   },
   "notebookName": "widgets",
   "widgets": {
    "order_year": {
     "currentValue": "2015",
     "nuid": "a025d12c-95fd-421c-9979-cf2a05f7df77",
     "typedWidgetInfo": {
      "autoCreated": false,
      "defaultValue": "2014",
      "label": "Year",
      "name": "order_year",
      "options": {
       "widgetDisplayType": "Text",
       "validationRegex": null
      },
      "parameterDataType": "String"
     },
     "widgetInfo": {
      "widgetType": "text",
      "defaultValue": "2014",
      "label": "Year",
      "name": "order_year",
      "options": {
       "widgetType": "text",
       "autoCreated": false,
       "validationRegex": null
      }
     }
    },
    "states": {
     "currentValue": "NY",
     "nuid": "3f98258f-2d02-4cd0-80bd-ee92cd980a37",
     "typedWidgetInfo": {
      "autoCreated": false,
      "defaultValue": "NY",
      "label": "Choose_a_state",
      "name": "states",
      "options": {
       "widgetDisplayType": "Dropdown",
       "choices": [
        "NY",
        "CA",
        "TX",
        "FL",
        "IL"
       ],
       "fixedDomain": true,
       "multiselect": false
      },
      "parameterDataType": "String"
     },
     "widgetInfo": {
      "widgetType": "dropdown",
      "defaultValue": "NY",
      "label": "Choose_a_state",
      "name": "states",
      "options": {
       "widgetType": "dropdown",
       "autoCreated": null,
       "choices": [
        "NY",
        "CA",
        "TX",
        "FL",
        "IL"
       ]
      }
     }
    },
    "status": {
     "currentValue": "COMPLETE",
     "nuid": "fb9f7689-a2a8-49f4-b48e-0cc209af339d",
     "typedWidgetInfo": {
      "autoCreated": false,
      "defaultValue": "COMPLETE",
      "label": "Choose_a_status",
      "name": "status",
      "options": {
       "widgetDisplayType": "Dropdown",
       "choices": [
        "COMPLETE",
        "PENDING_PAYMENT",
        "CLOSED",
        "PAYMENT_REVIEW",
        "PROCESSING"
       ],
       "fixedDomain": true,
       "multiselect": false
      },
      "parameterDataType": "String"
     },
     "widgetInfo": {
      "widgetType": "dropdown",
      "defaultValue": "COMPLETE",
      "label": "Choose_a_status",
      "name": "status",
      "options": {
       "widgetType": "dropdown",
       "autoCreated": null,
       "choices": [
        "COMPLETE",
        "PENDING_PAYMENT",
        "CLOSED",
        "PAYMENT_REVIEW",
        "PROCESSING"
       ]
      }
     }
    }
   }
  },
  "language_info": {
   "name": "python"
  }
 },
 "nbformat": 4,
 "nbformat_minor": 0
}
